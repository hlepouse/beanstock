{
 "cells": [
  {
   "cell_type": "code",
   "execution_count": 3,
   "id": "93459028",
   "metadata": {},
   "outputs": [],
   "source": [
    "import json"
   ]
  },
  {
   "cell_type": "code",
   "execution_count": 6,
   "id": "47198c9b",
   "metadata": {},
   "outputs": [
    {
     "name": "stdout",
     "output_type": "stream",
     "text": [
      "Schema:  code,nom,geometry:GEOGRAPHY\n"
     ]
    }
   ],
   "source": [
    "with open('/home/jupyter/beanstock/data/communes.geojson', 'r') as ifp:\n",
    "  with open('/home/jupyter/beanstock/data/to_load.json', 'w') as ofp:\n",
    "    features = json.load(ifp)['features']\n",
    "    # new-line-separated JSON\n",
    "    schema = None\n",
    "    for obj in features:\n",
    "        props = obj['properties']  # a dictionary\n",
    "        props['geometry'] = json.dumps(obj['geometry'])  # make the geometry a string\n",
    "        json.dump(props, fp=ofp)\n",
    "        print('', file=ofp) # newline\n",
    "        if schema is None:\n",
    "            schema = []\n",
    "            for key, value in props.items():\n",
    "                if key == 'geometry':\n",
    "                    schema.append('geometry:GEOGRAPHY')\n",
    "                elif isinstance(value, str):\n",
    "                    schema.append(key)\n",
    "                else:\n",
    "                    schema.append('{}:{}'.format(key,\n",
    "                       'int64' if isinstance(value, int) else 'float64'))\n",
    "            schema = ','.join(schema)\n",
    "    print('Schema: ', schema)"
   ]
  },
  {
   "cell_type": "code",
   "execution_count": null,
   "id": "1c1add0f",
   "metadata": {},
   "outputs": [],
   "source": []
  }
 ],
 "metadata": {
  "environment": {
   "name": "common-cpu.m69",
   "type": "gcloud",
   "uri": "gcr.io/deeplearning-platform-release/base-cpu:m69"
  },
  "kernelspec": {
   "display_name": "Python 3",
   "language": "python",
   "name": "python3"
  },
  "language_info": {
   "codemirror_mode": {
    "name": "ipython",
    "version": 3
   },
   "file_extension": ".py",
   "mimetype": "text/x-python",
   "name": "python",
   "nbconvert_exporter": "python",
   "pygments_lexer": "ipython3",
   "version": "3.7.10"
  }
 },
 "nbformat": 4,
 "nbformat_minor": 5
}
