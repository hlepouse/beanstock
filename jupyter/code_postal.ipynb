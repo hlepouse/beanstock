{
 "cells": [
  {
   "cell_type": "code",
   "execution_count": null,
   "id": "a71edc79",
   "metadata": {},
   "outputs": [],
   "source": [
    "import pandas as pd"
   ]
  },
  {
   "cell_type": "code",
   "execution_count": null,
   "id": "1e018a5c",
   "metadata": {},
   "outputs": [],
   "source": [
    "df = pd.read_csv('/home/jupyter/beanstock/data/communes-departement-region.csv', dtype={'code_postal': str})\n",
    "df = df[['code_postal', 'latitude', 'longitude']]\n",
    "#df.drop(df.columns[0], axis=1, inplace=True)\n",
    "#df.columns = ['code_postal', 'ville', 'pieces', 'chambres', 'superficie', 'loyer']"
   ]
  },
  {
   "cell_type": "code",
   "execution_count": null,
   "id": "100c541f",
   "metadata": {},
   "outputs": [],
   "source": [
    "df"
   ]
  },
  {
   "cell_type": "code",
   "execution_count": null,
   "id": "2714fa16",
   "metadata": {},
   "outputs": [],
   "source": [
    "df.dtypes"
   ]
  },
  {
   "cell_type": "code",
   "execution_count": null,
   "id": "3c3abdc0",
   "metadata": {},
   "outputs": [],
   "source": [
    "from google.cloud import bigquery\n",
    "client = bigquery.Client()\n",
    "client.load_table_from_dataframe(df, 'beanstock-313811.beanstock.code_postal')"
   ]
  },
  {
   "cell_type": "code",
   "execution_count": null,
   "id": "0ef32cb0",
   "metadata": {},
   "outputs": [],
   "source": []
  }
 ],
 "metadata": {
  "environment": {
   "name": "common-cpu.m69",
   "type": "gcloud",
   "uri": "gcr.io/deeplearning-platform-release/base-cpu:m69"
  },
  "kernelspec": {
   "display_name": "Python 3",
   "language": "python",
   "name": "python3"
  },
  "language_info": {
   "codemirror_mode": {
    "name": "ipython",
    "version": 3
   },
   "file_extension": ".py",
   "mimetype": "text/x-python",
   "name": "python",
   "nbconvert_exporter": "python",
   "pygments_lexer": "ipython3",
   "version": "3.7.10"
  }
 },
 "nbformat": 4,
 "nbformat_minor": 5
}
