{
 "cells": [
  {
   "cell_type": "code",
   "execution_count": null,
   "id": "7eadbea1",
   "metadata": {},
   "outputs": [],
   "source": [
    "import pandas as pd\n",
    "import seaborn as sns"
   ]
  },
  {
   "cell_type": "code",
   "execution_count": null,
   "id": "84f5f5f9",
   "metadata": {},
   "outputs": [],
   "source": [
    "df = pd.read_csv('/home/jupyter/beanstock/data/loyer.csv', decimal=',', dtype={'Code Postal': str})\n",
    "df.drop(df.columns[0], axis=1, inplace=True)\n",
    "df.columns = ['code_postal', 'ville', 'pieces', 'chambres', 'superficie', 'loyer']\n",
    "#df = df.where(pd.notnull(df), None)"
   ]
  },
  {
   "cell_type": "code",
   "execution_count": null,
   "id": "5d5c63fd",
   "metadata": {},
   "outputs": [],
   "source": [
    "df"
   ]
  },
  {
   "cell_type": "code",
   "execution_count": null,
   "id": "d59cb93e",
   "metadata": {},
   "outputs": [],
   "source": [
    "df.dtypes"
   ]
  },
  {
   "cell_type": "code",
   "execution_count": null,
   "id": "6370d792",
   "metadata": {},
   "outputs": [],
   "source": [
    "df.isna().sum()"
   ]
  },
  {
   "cell_type": "code",
   "execution_count": null,
   "id": "4c41d489",
   "metadata": {},
   "outputs": [],
   "source": [
    "df.code_postal.unique()"
   ]
  },
  {
   "cell_type": "code",
   "execution_count": null,
   "id": "a9324f20",
   "metadata": {},
   "outputs": [],
   "source": [
    "df.ville.unique()"
   ]
  },
  {
   "cell_type": "code",
   "execution_count": null,
   "id": "f6a13400",
   "metadata": {},
   "outputs": [],
   "source": [
    "df.chambres.unique()"
   ]
  },
  {
   "cell_type": "code",
   "execution_count": null,
   "id": "c1e645a1",
   "metadata": {},
   "outputs": [],
   "source": [
    "df[df.pieces >= 9]"
   ]
  },
  {
   "cell_type": "code",
   "execution_count": null,
   "id": "a6c470ec",
   "metadata": {},
   "outputs": [],
   "source": [
    "df = df[df.pieces <= 10]\n",
    "df = df[df.loyer <= 50000]"
   ]
  },
  {
   "cell_type": "code",
   "execution_count": null,
   "id": "9e97bfcd",
   "metadata": {},
   "outputs": [],
   "source": [
    "sns.boxplot(data=df, x='pieces', y='loyer')"
   ]
  },
  {
   "cell_type": "code",
   "execution_count": null,
   "id": "d05f2be8",
   "metadata": {},
   "outputs": [],
   "source": [
    "sns.scatterplot(data=df, x='superficie', y='loyer')"
   ]
  },
  {
   "cell_type": "code",
   "execution_count": null,
   "id": "65c95067",
   "metadata": {},
   "outputs": [],
   "source": [
    "sns.boxplot(data=df, x='chambres', y='loyer')"
   ]
  },
  {
   "cell_type": "code",
   "execution_count": null,
   "id": "e6ac31a7",
   "metadata": {},
   "outputs": [],
   "source": [
    "from google.cloud import bigquery"
   ]
  },
  {
   "cell_type": "code",
   "execution_count": null,
   "id": "87a8796c",
   "metadata": {},
   "outputs": [],
   "source": [
    "client = bigquery.Client()"
   ]
  },
  {
   "cell_type": "code",
   "execution_count": null,
   "id": "15cf89ae",
   "metadata": {},
   "outputs": [],
   "source": [
    "client.load_table_from_dataframe(df, 'beanstock-313811.beanstock.loyer_raw')"
   ]
  },
  {
   "cell_type": "code",
   "execution_count": null,
   "id": "ffecbae1",
   "metadata": {},
   "outputs": [],
   "source": []
  }
 ],
 "metadata": {
  "environment": {
   "name": "common-cpu.m69",
   "type": "gcloud",
   "uri": "gcr.io/deeplearning-platform-release/base-cpu:m69"
  },
  "kernelspec": {
   "display_name": "Python 3",
   "language": "python",
   "name": "python3"
  },
  "language_info": {
   "codemirror_mode": {
    "name": "ipython",
    "version": 3
   },
   "file_extension": ".py",
   "mimetype": "text/x-python",
   "name": "python",
   "nbconvert_exporter": "python",
   "pygments_lexer": "ipython3",
   "version": "3.7.10"
  }
 },
 "nbformat": 4,
 "nbformat_minor": 5
}
