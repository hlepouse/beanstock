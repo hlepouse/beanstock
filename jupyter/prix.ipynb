{
 "cells": [
  {
   "cell_type": "code",
   "execution_count": null,
   "id": "7ca480f3",
   "metadata": {},
   "outputs": [],
   "source": [
    "import pandas as pd\n",
    "import seaborn as sns"
   ]
  },
  {
   "cell_type": "code",
   "execution_count": null,
   "id": "a782241a",
   "metadata": {},
   "outputs": [],
   "source": [
    "df = pd.read_csv('/home/jupyter/beanstock/data/prix.csv', decimal=',', dtype={'Code Postal': str})\n",
    "df.columns = ['code_postal', 'ville', 'pieces', 'chambres', 'superficie', 'prix']\n",
    "df = df[df.superficie != '²1']\n",
    "df.superficie = df.superficie.astype(str).apply(lambda x: x.replace(',','.')).astype(float)"
   ]
  },
  {
   "cell_type": "code",
   "execution_count": null,
   "id": "027bbb99",
   "metadata": {},
   "outputs": [],
   "source": [
    "df"
   ]
  },
  {
   "cell_type": "code",
   "execution_count": null,
   "id": "856a525d",
   "metadata": {},
   "outputs": [],
   "source": [
    "df.dtypes"
   ]
  },
  {
   "cell_type": "code",
   "execution_count": null,
   "id": "5422cc16",
   "metadata": {},
   "outputs": [],
   "source": [
    "df[df.superficie == '²1']"
   ]
  },
  {
   "cell_type": "code",
   "execution_count": null,
   "id": "c6fb166b",
   "metadata": {},
   "outputs": [],
   "source": [
    "sns.scatterplot(data=df, x='superficie', y='prix')"
   ]
  },
  {
   "cell_type": "code",
   "execution_count": null,
   "id": "3382567b",
   "metadata": {},
   "outputs": [],
   "source": [
    "sns.boxplot(data=df, x='pieces', y='prix')"
   ]
  },
  {
   "cell_type": "code",
   "execution_count": null,
   "id": "dc009844",
   "metadata": {},
   "outputs": [],
   "source": [
    "df[df.prix < 10000].count()"
   ]
  },
  {
   "cell_type": "code",
   "execution_count": null,
   "id": "e4767366",
   "metadata": {},
   "outputs": [],
   "source": [
    "from google.cloud import bigquery\n",
    "client = bigquery.Client()\n",
    "client.load_table_from_dataframe(df, 'beanstock-313811.beanstock.prix_raw')"
   ]
  },
  {
   "cell_type": "code",
   "execution_count": null,
   "id": "6a0cd52c",
   "metadata": {},
   "outputs": [],
   "source": [
    "df[df.superficie < 2].count()"
   ]
  },
  {
   "cell_type": "code",
   "execution_count": null,
   "id": "a622c1c5",
   "metadata": {},
   "outputs": [],
   "source": [
    "df[df.superficie == 1]"
   ]
  }
 ],
 "metadata": {
  "environment": {
   "name": "common-cpu.m69",
   "type": "gcloud",
   "uri": "gcr.io/deeplearning-platform-release/base-cpu:m69"
  },
  "kernelspec": {
   "display_name": "Python 3",
   "language": "python",
   "name": "python3"
  },
  "language_info": {
   "codemirror_mode": {
    "name": "ipython",
    "version": 3
   },
   "file_extension": ".py",
   "mimetype": "text/x-python",
   "name": "python",
   "nbconvert_exporter": "python",
   "pygments_lexer": "ipython3",
   "version": "3.7.10"
  }
 },
 "nbformat": 4,
 "nbformat_minor": 5
}
